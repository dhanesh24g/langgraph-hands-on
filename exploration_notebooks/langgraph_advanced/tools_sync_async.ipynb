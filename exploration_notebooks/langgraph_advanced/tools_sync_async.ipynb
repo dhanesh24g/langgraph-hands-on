{
 "cells": [
  {
   "metadata": {},
   "cell_type": "code",
   "source": [
    "from dotenv import load_dotenv\n",
    "from langchain_core.tools import StructuredTool\n",
    "from langchain_core.tools import Tool\n",
    "from langgraph.graph import StateGraph\n",
    "from typing import TypedDict, Annotated\n",
    "from langgraph.graph.message import add_messages\n",
    "import gradio as gr"
   ],
   "id": "f52dba1ddcfe354b",
   "outputs": [],
   "execution_count": null
  },
  {
   "metadata": {},
   "cell_type": "code",
   "source": "load_dotenv(override=True)",
   "id": "989bf44a804a008b",
   "outputs": [],
   "execution_count": null
  },
  {
   "metadata": {},
   "cell_type": "markdown",
   "source": "#### Building Two Finance Specific tools",
   "id": "5c4f3c2a26f63d0d"
  },
  {
   "metadata": {},
   "cell_type": "code",
   "source": [
    "from langchain_community.utilities.alpha_vantage import AlphaVantageAPIWrapper\n",
    "from pydantic import BaseModel\n",
    "\n",
    "class CurrencyArgs(BaseModel):\n",
    "    from_currency: str\n",
    "    to_currency: str\n",
    "\n",
    "alpha_vantage = AlphaVantageAPIWrapper()\n",
    "\n",
    "currency_tool = StructuredTool.from_function(\n",
    "    name=\"currency_conversion_tool\",\n",
    "    func=alpha_vantage.run,\n",
    "    args_schema=CurrencyArgs,\n",
    "    description=\n",
    "    \"\"\"\n",
    "    This tool gets the currency exchange rates for the given currency pair.\n",
    "    This method mandates 2 Currency Codes as arguments: from_currency, to_currency.\n",
    "\n",
    "    Args:\n",
    "        from_currency: The first currency mentioned in the query.\n",
    "        to_currency: The second currency mentioned in the query.\n",
    "    \"\"\"\n",
    ")\n",
    "\n",
    "stock_tool = Tool(\n",
    "    name=\"stock_tool\",\n",
    "    func=alpha_vantage._get_quote_endpoint,\n",
    "    description=\n",
    "    \"\"\"\n",
    "    This tool gets the latest stock exchange rates from the USA Stock market for the given stock.\n",
    "\n",
    "    Args:\n",
    "        stock_code = US Stock Exchange code of the stock you want to inquire.\n",
    "    \"\"\"\n",
    ")"
   ],
   "id": "559ddea0d04b69c7",
   "outputs": [],
   "execution_count": null
  },
  {
   "metadata": {},
   "cell_type": "markdown",
   "source": "#### Adding the second tool (PlayWright)",
   "id": "3087ec35dfef9aa8"
  },
  {
   "metadata": {},
   "cell_type": "code",
   "source": [
    "from langchain_community.agent_toolkits import PlayWrightBrowserToolkit\n",
    "from langchain_community.tools.playwright.utils import create_async_playwright_browser\n",
    "import nest_asyncio\n",
    "\n",
    "nest_asyncio.apply()\n",
    "\n",
    "async_browser = create_async_playwright_browser(headless=False)\n",
    "browser = PlayWrightBrowserToolkit.from_browser(async_browser=async_browser)\n",
    "browser_tools = browser.get_tools()"
   ],
   "id": "2c98e237f8019cf1",
   "outputs": [],
   "execution_count": null
  },
  {
   "metadata": {},
   "cell_type": "code",
   "source": [
    "tools = []\n",
    "tools = browser_tools\n",
    "tools.append(currency_tool)\n",
    "tools.append(stock_tool)"
   ],
   "id": "b36228b0c0fc0821",
   "outputs": [],
   "execution_count": null
  },
  {
   "metadata": {},
   "cell_type": "code",
   "source": [
    "from langchain_openai import ChatOpenAI\n",
    "\n",
    "llm_with_tools = ChatOpenAI(model=\"gpt-4o-mini\").bind_tools(tools)"
   ],
   "id": "43a3176e40683f57",
   "outputs": [],
   "execution_count": null
  },
  {
   "metadata": {},
   "cell_type": "markdown",
   "source": "#### Building the Graph",
   "id": "344c45f16061a2c9"
  },
  {
   "metadata": {},
   "cell_type": "code",
   "source": [
    "class AgentState(TypedDict):\n",
    "    messages: Annotated[list, add_messages]\n",
    "\n",
    "graph_builder = StateGraph(AgentState)"
   ],
   "id": "5f208ade9da3182e",
   "outputs": [],
   "execution_count": null
  },
  {
   "metadata": {},
   "cell_type": "markdown",
   "source": "#### Building the Chatbot for user",
   "id": "3fd66e132cad88e8"
  },
  {
   "metadata": {},
   "cell_type": "code",
   "source": [
    "def chatbot(state: AgentState):\n",
    "    return {\"messages\": [llm_with_tools.invoke(state[\"messages\"])]}\n"
   ],
   "id": "e39bbe6ae33aaa58",
   "outputs": [],
   "execution_count": null
  },
  {
   "metadata": {},
   "cell_type": "code",
   "source": [
    "from langgraph.prebuilt import ToolNode, tools_condition\n",
    "from langgraph.checkpoint.memory import MemorySaver\n",
    "\n",
    "graph_builder.add_node(\"chatbot\", chatbot)\n",
    "graph_builder.add_node(\"tools\", ToolNode(tools=tools))\n",
    "graph_builder.add_conditional_edges(\n",
    "    \"chatbot\",\n",
    "    tools_condition,\n",
    "    \"tools\"\n",
    ")\n",
    "graph_builder.add_edge(\"tools\", \"chatbot\")\n",
    "graph_builder.set_entry_point(\"chatbot\")\n",
    "\n",
    "memory = MemorySaver()\n",
    "graph = graph_builder.compile(checkpointer=memory)\n",
    "\n",
    "graph"
   ],
   "id": "b63e71d91b1faf56",
   "outputs": [],
   "execution_count": null
  },
  {
   "metadata": {},
   "cell_type": "code",
   "source": [
    "config = {\"configurable\": {\"thread_id\": \"3\"}}\n",
    "# recursion_limit\n",
    "\n",
    "async def chat(user_input: str, history):\n",
    "    response = await graph.ainvoke(\n",
    "        {\"messages\": [{\"role\": \"user\", \"content\": user_input}]},\n",
    "        config=config\n",
    "    )\n",
    "    return response[\"messages\"][-1].content\n",
    "\n",
    "gr.ChatInterface(chat, type=\"messages\").launch()"
   ],
   "id": "fa8ea709e3780715",
   "outputs": [],
   "execution_count": null
  }
 ],
 "metadata": {
  "kernelspec": {
   "display_name": "Python 3",
   "language": "python",
   "name": "python3"
  },
  "language_info": {
   "codemirror_mode": {
    "name": "ipython",
    "version": 2
   },
   "file_extension": ".py",
   "mimetype": "text/x-python",
   "name": "python",
   "nbconvert_exporter": "python",
   "pygments_lexer": "ipython2",
   "version": "2.7.6"
  }
 },
 "nbformat": 4,
 "nbformat_minor": 5
}
