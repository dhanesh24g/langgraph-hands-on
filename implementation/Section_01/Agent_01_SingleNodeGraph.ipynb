{
 "cells": [
  {
   "metadata": {},
   "cell_type": "markdown",
   "source": "## SingleNode Agent",
   "id": "890cde7d097d366c"
  },
  {
   "metadata": {
    "ExecuteTime": {
     "end_time": "2025-07-19T14:28:31.282782Z",
     "start_time": "2025-07-19T14:28:31.279893Z"
    }
   },
   "cell_type": "code",
   "source": [
    "from typing import TypedDict\n",
    "from langgraph.graph import StateGraph"
   ],
   "id": "91c6d904554c6841",
   "outputs": [],
   "execution_count": 74
  },
  {
   "metadata": {
    "ExecuteTime": {
     "end_time": "2025-07-19T14:28:31.303143Z",
     "start_time": "2025-07-19T14:28:31.299941Z"
    }
   },
   "cell_type": "code",
   "source": [
    "# Creating an AgentState - Schema for the State of the Agent\n",
    "\n",
    "class AgentState(TypedDict):\n",
    "    name: str\n",
    "    organisation: str\n",
    "    experience: int\n",
    "    salary: int\n",
    "\n",
    "Dhanesh = AgentState(\n",
    "    name='Dhanesh Gujrathi',\n",
    "    organisation=\"\",\n",
    "    experience=0,\n",
    "    salary=0\n",
    ")\n",
    "\n",
    "# Creating a Node\n",
    "def change_org(state: AgentState) -> AgentState:\n",
    "    \"\"\"Changes the organization of an employee.\"\"\"\n",
    "\n",
    "    state['organisation'] = \"DBS Bank\"\n",
    "    state['experience'] = 5\n",
    "    state['salary'] = 8000\n",
    "\n",
    "    return state\n"
   ],
   "id": "673310859f684d0d",
   "outputs": [],
   "execution_count": 75
  },
  {
   "metadata": {
    "ExecuteTime": {
     "end_time": "2025-07-19T14:28:31.409321Z",
     "start_time": "2025-07-19T14:28:31.310234Z"
    }
   },
   "cell_type": "code",
   "source": [
    "# Creating a Graph\n",
    "graph = StateGraph(AgentState)\n",
    "\n",
    "# Adding a Node to the Graph\n",
    "graph.add_node(\"changingOrg\", change_org)\n",
    "\n",
    "# Creating START & END nodes\n",
    "graph.set_entry_point(\"changingOrg\")\n",
    "graph.set_finish_point(\"changingOrg\")\n",
    "\n",
    "app = graph.compile()\n",
    "\n",
    "app"
   ],
   "id": "62a9f13c145a311",
   "outputs": [
    {
     "data": {
      "text/plain": [
       "<langgraph.graph.state.CompiledStateGraph object at 0x10a846390>"
      ],
      "image/png": "[encoded data removed]"
     },
     "execution_count": 76,
     "metadata": {},
     "output_type": "execute_result"
    }
   ],
   "execution_count": 76
  },
  {
   "metadata": {
    "ExecuteTime": {
     "end_time": "2025-07-19T14:28:31.423842Z",
     "start_time": "2025-07-19T14:28:31.420359Z"
    }
   },
   "cell_type": "code",
   "source": [
    "result = app.invoke(Dhanesh)\n",
    "print(result)"
   ],
   "id": "83c808b1cb3e8f15",
   "outputs": [
    {
     "name": "stdout",
     "output_type": "stream",
     "text": [
      "{'name': 'Dhanesh Gujrathi', 'organisation': 'DBS Bank', 'experience': 5, 'salary': 8000}\n"
     ]
    }
   ],
   "execution_count": 77
  }
 ],
 "metadata": {
  "kernelspec": {
   "display_name": "Python 3",
   "language": "python",
   "name": "python3"
  },
  "language_info": {
   "codemirror_mode": {
    "name": "ipython",
    "version": 2
   },
   "file_extension": ".py",
   "mimetype": "text/x-python",
   "name": "python",
   "nbconvert_exporter": "python",
   "pygments_lexer": "ipython2",
   "version": "2.7.6"
  }
 },
 "nbformat": 4,
 "nbformat_minor": 5
}
