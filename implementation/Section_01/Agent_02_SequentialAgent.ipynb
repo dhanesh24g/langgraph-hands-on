{
 "cells": [
  {
   "metadata": {},
   "cell_type": "markdown",
   "source": "## Sequential Agent",
   "id": "fbe192fc62de61d0"
  },
  {
   "cell_type": "code",
   "id": "initial_id",
   "metadata": {
    "collapsed": true,
    "ExecuteTime": {
     "end_time": "2025-07-19T16:34:55.224740Z",
     "start_time": "2025-07-19T16:34:55.221711Z"
    }
   },
   "source": [
    "from langgraph.graph import StateGraph\n",
    "from typing import TypedDict, List"
   ],
   "outputs": [],
   "execution_count": 191
  },
  {
   "metadata": {
    "ExecuteTime": {
     "end_time": "2025-07-19T16:34:55.237713Z",
     "start_time": "2025-07-19T16:34:55.234530Z"
    }
   },
   "cell_type": "code",
   "source": [
    "# Creating schema for the State of the Agent\n",
    "class AgentState(TypedDict):\n",
    "    name: str\n",
    "    experience: float\n",
    "    country: str\n",
    "    organisation: List[str]"
   ],
   "id": "fd07ed3d7b40a28d",
   "outputs": [],
   "execution_count": 192
  },
  {
   "metadata": {
    "ExecuteTime": {
     "end_time": "2025-07-19T16:34:55.246154Z",
     "start_time": "2025-07-19T16:34:55.244082Z"
    }
   },
   "cell_type": "code",
   "source": [
    "# Creating the First Node of Sequence\n",
    "def first_job(state: AgentState) -> AgentState:\n",
    "    \"\"\"This function determines the completion of Dhanesh's First Job\"\"\"\n",
    "    print(state)\n",
    "\n",
    "    state[\"name\"] = state.get(\"name\")\n",
    "    state[\"country\"] = \"India\"\n",
    "\n",
    "\n",
    "    if 0 < state.get(\"experience\"):\n",
    "        state[\"organisation\"] = [\"Tibco\"]\n",
    "\n",
    "    return state"
   ],
   "id": "50c8450d1e59ab57",
   "outputs": [],
   "execution_count": 193
  },
  {
   "metadata": {
    "ExecuteTime": {
     "end_time": "2025-07-19T16:34:55.254018Z",
     "start_time": "2025-07-19T16:34:55.251858Z"
    }
   },
   "cell_type": "code",
   "source": [
    "# Creating the Second Node of Sequence\n",
    "def change_country(state: AgentState) -> AgentState:\n",
    "    \"\"\"This function determines the completion of Dhanesh's Fourth Job (Third Job in Singapore)\"\"\"\n",
    "    print(state)\n",
    "\n",
    "    experience = state.get(\"experience\")\n",
    "\n",
    "    if 5 < experience:\n",
    "        state[\"organisation\"] = []\n",
    "        state[\"organisation\"].append(\"DBS Bank\")\n",
    "        state[\"country\"] = \"Singapore\"\n",
    "    if 6 < experience:\n",
    "        state[\"organisation\"].append(\"Equinix\")\n",
    "    if 8 < experience:\n",
    "        state[\"organisation\"].append(\"OCBC Bank\")\n",
    "    if 11 < experience:\n",
    "        state[\"organisation\"].append(\"Remote\")\n",
    "\n",
    "    return state"
   ],
   "id": "cd2e00e450a23cc",
   "outputs": [],
   "execution_count": 194
  },
  {
   "metadata": {
    "ExecuteTime": {
     "end_time": "2025-07-19T16:34:55.314418Z",
     "start_time": "2025-07-19T16:34:55.260520Z"
    }
   },
   "cell_type": "code",
   "source": [
    "# Building the Graph Nodes & Edges\n",
    "graph = StateGraph(AgentState)\n",
    "\n",
    "graph.add_node(\"job_in\", first_job)\n",
    "graph.add_node(\"job_sg\", change_country)\n",
    "\n",
    "graph.set_entry_point(\"job_in\")\n",
    "graph.set_finish_point(\"job_sg\")\n",
    "\n",
    "graph.add_edge(\"job_in\", \"job_sg\")\n",
    "app = graph.compile()\n",
    "\n",
    "app"
   ],
   "id": "e0d693d30954b165",
   "outputs": [
    {
     "data": {
      "text/plain": [
       "<langgraph.graph.state.CompiledStateGraph object at 0x105fb4920>"
      ],
      "image/png": "[encoded data removed]"
     },
     "execution_count": 195,
     "metadata": {},
     "output_type": "execute_result"
    }
   ],
   "execution_count": 195
  },
  {
   "metadata": {
    "ExecuteTime": {
     "end_time": "2025-07-19T16:34:55.327404Z",
     "start_time": "2025-07-19T16:34:55.324624Z"
    }
   },
   "cell_type": "code",
   "source": [
    "result = app.invoke({\"name\": \"Dhanesh\", \"experience\": 11.1})\n",
    "\n",
    "print(result)"
   ],
   "id": "827f93f651a9ff80",
   "outputs": [
    {
     "name": "stdout",
     "output_type": "stream",
     "text": [
      "{'name': 'Dhanesh', 'experience': 11.1}\n",
      "{'name': 'Dhanesh', 'experience': 11.1, 'country': 'India', 'organisation': ['Tibco']}\n",
      "{'name': 'Dhanesh', 'experience': 11.1, 'country': 'Singapore', 'organisation': ['DBS Bank', 'Equinix', 'OCBC Bank', 'Remote']}\n"
     ]
    }
   ],
   "execution_count": 196
  }
 ],
 "metadata": {
  "kernelspec": {
   "display_name": "Python 3",
   "language": "python",
   "name": "python3"
  },
  "language_info": {
   "codemirror_mode": {
    "name": "ipython",
    "version": 2
   },
   "file_extension": ".py",
   "mimetype": "text/x-python",
   "name": "python",
   "nbconvert_exporter": "python",
   "pygments_lexer": "ipython2",
   "version": "2.7.6"
  }
 },
 "nbformat": 4,
 "nbformat_minor": 5
}
