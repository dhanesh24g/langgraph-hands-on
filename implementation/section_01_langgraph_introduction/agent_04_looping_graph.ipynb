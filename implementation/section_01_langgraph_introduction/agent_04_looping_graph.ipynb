{
 "cells": [
  {
   "metadata": {},
   "cell_type": "markdown",
   "source": "## Implement Looping Graph",
   "id": "4354d487b1930b2"
  },
  {
   "cell_type": "code",
   "id": "initial_id",
   "metadata": {
    "collapsed": true,
    "ExecuteTime": {
     "end_time": "2025-07-21T14:19:41.732369Z",
     "start_time": "2025-07-21T14:19:41.728661Z"
    }
   },
   "source": [
    "from typing import TypedDict, List\n",
    "from langgraph.graph import StateGraph, END\n",
    "import random"
   ],
   "outputs": [],
   "execution_count": 19
  },
  {
   "metadata": {
    "ExecuteTime": {
     "end_time": "2025-07-21T14:19:41.743422Z",
     "start_time": "2025-07-21T14:19:41.741442Z"
    }
   },
   "cell_type": "code",
   "source": [
    "class AgentState(TypedDict):\n",
    "    name: str\n",
    "    number: List[int]\n",
    "    counter: int"
   ],
   "id": "f48b77e1853fc872",
   "outputs": [],
   "execution_count": 20
  },
  {
   "metadata": {
    "ExecuteTime": {
     "end_time": "2025-07-21T14:19:41.753900Z",
     "start_time": "2025-07-21T14:19:41.751392Z"
    }
   },
   "cell_type": "code",
   "source": [
    "def greet_user(state: AgentState) -> AgentState:\n",
    "    \"\"\"Greeting node that says Hi to the person\"\"\"\n",
    "    state['name'] = f\"Hey there, {state['name']}\"\n",
    "    state['counter'] = 0\n",
    "    return state\n",
    "\n",
    "\n",
    "def generate_random(state: AgentState) -> AgentState:\n",
    "    \"\"\"Generates a random number from 0 to 10\"\"\"\n",
    "    state['number'].append(random.randint(-10, 10))\n",
    "    state['counter'] += 1\n",
    "    return state\n",
    "\n",
    "\n",
    "def should_continue(state: AgentState) -> AgentState:\n",
    "    \"\"\"Function to decide whether to continue or end\"\"\"\n",
    "    if state['counter'] < 5:\n",
    "        print(\"Entering Loop \", state['counter'])\n",
    "        return \"loop\"\n",
    "    else:\n",
    "        return \"end\""
   ],
   "id": "17705e2ad9c88e33",
   "outputs": [],
   "execution_count": 21
  },
  {
   "metadata": {
    "ExecuteTime": {
     "end_time": "2025-07-21T14:19:41.815568Z",
     "start_time": "2025-07-21T14:19:41.761479Z"
    }
   },
   "cell_type": "code",
   "source": [
    "graph = StateGraph(AgentState)\n",
    "\n",
    "graph.add_node(\"greeting_node\", greet_user)\n",
    "graph.add_node(\"random_node\", generate_random)\n",
    "graph.add_edge(\"greeting_node\", \"random_node\")\n",
    "\n",
    "graph.add_conditional_edges(\n",
    "    \"random_node\",\n",
    "    should_continue,\n",
    "    {\n",
    "        \"loop\": \"random_node\",\n",
    "        \"end\": END\n",
    "    }\n",
    ")\n",
    "\n",
    "graph.set_entry_point(\"greeting_node\")\n",
    "\n",
    "app = graph.compile()\n",
    "\n",
    "app\n"
   ],
   "id": "f5beda416d791136",
   "outputs": [
    {
     "data": {
      "text/plain": [
       "<langgraph.graph.state.CompiledStateGraph object at 0x12155aa80>"
      ],
      "image/png": "[encoded data removed]"
     },
     "execution_count": 22,
     "metadata": {},
     "output_type": "execute_result"
    }
   ],
   "execution_count": 22
  },
  {
   "metadata": {
    "ExecuteTime": {
     "end_time": "2025-07-21T14:19:41.829059Z",
     "start_time": "2025-07-21T14:19:41.824720Z"
    }
   },
   "cell_type": "code",
   "source": [
    "result = app.invoke({\"name\": \"Dhanesh\", \"number\": [], \"counter\": 2})\n",
    "\n",
    "result"
   ],
   "id": "8e6d9a0ffcc90dde",
   "outputs": [
    {
     "name": "stdout",
     "output_type": "stream",
     "text": [
      "Entering Loop  1\n",
      "Entering Loop  2\n",
      "Entering Loop  3\n",
      "Entering Loop  4\n"
     ]
    },
    {
     "data": {
      "text/plain": [
       "{'name': 'Hey there, Dhanesh', 'number': [1, 9, 8, 7, -3], 'counter': 5}"
      ]
     },
     "execution_count": 23,
     "metadata": {},
     "output_type": "execute_result"
    }
   ],
   "execution_count": 23
  }
 ],
 "metadata": {
  "kernelspec": {
   "display_name": "Python 3",
   "language": "python",
   "name": "python3"
  },
  "language_info": {
   "codemirror_mode": {
    "name": "ipython",
    "version": 2
   },
   "file_extension": ".py",
   "mimetype": "text/x-python",
   "name": "python",
   "nbconvert_exporter": "python",
   "pygments_lexer": "ipython2",
   "version": "2.7.6"
  }
 },
 "nbformat": 4,
 "nbformat_minor": 5
}
